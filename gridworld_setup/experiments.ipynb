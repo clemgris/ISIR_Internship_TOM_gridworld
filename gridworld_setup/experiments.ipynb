{
 "cells": [
  {
   "attachments": {},
   "cell_type": "markdown",
   "metadata": {},
   "source": [
    "# Experiments Theory of Mind in teacher-learner gridworld setup"
   ]
  },
  {
   "cell_type": "code",
   "execution_count": 1,
   "metadata": {},
   "outputs": [
    {
     "name": "stdout",
     "output_type": "stream",
     "text": [
      "pygame 2.4.0 (SDL 2.26.4, Python 3.11.3)\n",
      "Hello from the pygame community. https://www.pygame.org/contribute.html\n"
     ]
    }
   ],
   "source": [
    "from __future__ import annotations\n",
    "import warnings\n",
    "\n",
    "from minigrid.core.actions import Actions\n",
    "from minigrid.core.constants import IDX_TO_COLOR, DIR_TO_VEC\n",
    "\n",
    "import numpy as np\n",
    "import matplotlib.pyplot as plt\n",
    "from tqdm import trange\n",
    "\n",
    "from environment import MultiGoalsEnv\n",
    "from learner import BayesianLearner\n",
    "\n",
    "warnings.filterwarnings(\"ignore\", category=RuntimeWarning)"
   ]
  },
  {
   "cell_type": "code",
   "execution_count": 2,
   "metadata": {},
   "outputs": [],
   "source": [
    "# Parameters\n",
    "\n",
    "GRID_SIZE = 15\n",
    "num_doors = 4\n",
    "rf_values = [3, 5, 7, 15]"
   ]
  },
  {
   "attachments": {},
   "cell_type": "markdown",
   "metadata": {},
   "source": [
    "## Environment"
   ]
  },
  {
   "cell_type": "code",
   "execution_count": 3,
   "metadata": {},
   "outputs": [
    {
     "data": {
      "image/png": "[encoded data removed]",
      "text/plain": [
       "<Figure size 640x480 with 1 Axes>"
      ]
     },
     "metadata": {},
     "output_type": "display_data"
    }
   ],
   "source": [
    "env = MultiGoalsEnv(render_mode = \"rgb_array\",\n",
    "                    agent_goal=0, agent_view_size=3, \n",
    "                    agent_start_pos=(GRID_SIZE//2, GRID_SIZE-2), agent_start_dir=3,\n",
    "                    size=GRID_SIZE)\n",
    "_ = env.reset()\n",
    "\n",
    "plt.imshow(env.render());"
   ]
  },
  {
   "attachments": {},
   "cell_type": "markdown",
   "metadata": {},
   "source": [
    "## Learner (Bayesian - RL)"
   ]
  },
  {
   "cell_type": "code",
   "execution_count": 5,
   "metadata": {},
   "outputs": [
    {
     "name": "stdout",
     "output_type": "stream",
     "text": [
      " Learner with rf=3 for goal=0 (green) \n",
      "       Step count: 39 \n",
      "       Reward: 0.6490\n"
     ]
    }
   ],
   "source": [
    "receptive_field = 3\n",
    "goal = 0\n",
    "\n",
    "learner = BayesianLearner(goal=goal, receptive_field=receptive_field, grid_size=GRID_SIZE, save_render=True)\n",
    "learner.play()\n",
    "\n",
    "print(f' Learner with rf={receptive_field} for goal={goal} ({IDX_TO_COLOR[goal+1]}) \\n \\\n",
    "      Step count: {learner.env.step_count} \\n \\\n",
    "      Reward: {learner.reward:.4f}')"
   ]
  },
  {
   "attachments": {},
   "cell_type": "markdown",
   "metadata": {},
   "source": [
    "### Examples behaviours"
   ]
  },
  {
   "cell_type": "code",
   "execution_count": 18,
   "metadata": {},
   "outputs": [
    {
     "data": {
      "text/html": [
       "\n",
       "        <div style=\"display: flex; justify-content;\">\n",
       "            <div>\n",
       "                <h2>Receptive field 3, goal green</h2>\n",
       "            </div>\n",
       "        </div>\n",
       "        <div style=\"display: flex; justify-content;\">\n",
       "            <div>\n",
       "                <img src=\"./outputs_rendering/example/output_rf_3_goal_1.gif\" alt=\"GIF 1\" width=\"300\" height=\"300\">\n",
       "            </div>\n",
       "            <div>\n",
       "                <img src=\"./outputs_rendering/example/output_belief_rf_3_goal_1.gif\" alt=\"GIF 2\" width=\"300\" height=\"300\">\n",
       "            </div>\n",
       "        </div>\n",
       "        "
      ],
      "text/plain": [
       "<IPython.core.display.HTML object>"
      ]
     },
     "metadata": {},
     "output_type": "display_data"
    },
    {
     "data": {
      "text/html": [
       "\n",
       "        <div style=\"display: flex; justify-content;\">\n",
       "            <div>\n",
       "                <h2>Receptive field 3, goal blue</h2>\n",
       "            </div>\n",
       "        </div>\n",
       "        <div style=\"display: flex; justify-content;\">\n",
       "            <div>\n",
       "                <img src=\"./outputs_rendering/example/output_rf_3_goal_2.gif\" alt=\"GIF 1\" width=\"300\" height=\"300\">\n",
       "            </div>\n",
       "            <div>\n",
       "                <img src=\"./outputs_rendering/example/output_belief_rf_3_goal_2.gif\" alt=\"GIF 2\" width=\"300\" height=\"300\">\n",
       "            </div>\n",
       "        </div>\n",
       "        "
      ],
      "text/plain": [
       "<IPython.core.display.HTML object>"
      ]
     },
     "metadata": {},
     "output_type": "display_data"
    },
    {
     "data": {
      "text/html": [
       "\n",
       "        <div style=\"display: flex; justify-content;\">\n",
       "            <div>\n",
       "                <h2>Receptive field 3, goal purple</h2>\n",
       "            </div>\n",
       "        </div>\n",
       "        <div style=\"display: flex; justify-content;\">\n",
       "            <div>\n",
       "                <img src=\"./outputs_rendering/example/output_rf_3_goal_3.gif\" alt=\"GIF 1\" width=\"300\" height=\"300\">\n",
       "            </div>\n",
       "            <div>\n",
       "                <img src=\"./outputs_rendering/example/output_belief_rf_3_goal_3.gif\" alt=\"GIF 2\" width=\"300\" height=\"300\">\n",
       "            </div>\n",
       "        </div>\n",
       "        "
      ],
      "text/plain": [
       "<IPython.core.display.HTML object>"
      ]
     },
     "metadata": {},
     "output_type": "display_data"
    },
    {
     "data": {
      "text/html": [
       "\n",
       "        <div style=\"display: flex; justify-content;\">\n",
       "            <div>\n",
       "                <h2>Receptive field 3, goal yellow</h2>\n",
       "            </div>\n",
       "        </div>\n",
       "        <div style=\"display: flex; justify-content;\">\n",
       "            <div>\n",
       "                <img src=\"./outputs_rendering/example/output_rf_3_goal_4.gif\" alt=\"GIF 1\" width=\"300\" height=\"300\">\n",
       "            </div>\n",
       "            <div>\n",
       "                <img src=\"./outputs_rendering/example/output_belief_rf_3_goal_4.gif\" alt=\"GIF 2\" width=\"300\" height=\"300\">\n",
       "            </div>\n",
       "        </div>\n",
       "        "
      ],
      "text/plain": [
       "<IPython.core.display.HTML object>"
      ]
     },
     "metadata": {},
     "output_type": "display_data"
    },
    {
     "data": {
      "text/html": [
       "\n",
       "        <div style=\"display: flex; justify-content;\">\n",
       "            <div>\n",
       "                <h2>Receptive field 5, goal green</h2>\n",
       "            </div>\n",
       "        </div>\n",
       "        <div style=\"display: flex; justify-content;\">\n",
       "            <div>\n",
       "                <img src=\"./outputs_rendering/example/output_rf_5_goal_1.gif\" alt=\"GIF 1\" width=\"300\" height=\"300\">\n",
       "            </div>\n",
       "            <div>\n",
       "                <img src=\"./outputs_rendering/example/output_belief_rf_5_goal_1.gif\" alt=\"GIF 2\" width=\"300\" height=\"300\">\n",
       "            </div>\n",
       "        </div>\n",
       "        "
      ],
      "text/plain": [
       "<IPython.core.display.HTML object>"
      ]
     },
     "metadata": {},
     "output_type": "display_data"
    },
    {
     "data": {
      "text/html": [
       "\n",
       "        <div style=\"display: flex; justify-content;\">\n",
       "            <div>\n",
       "                <h2>Receptive field 5, goal blue</h2>\n",
       "            </div>\n",
       "        </div>\n",
       "        <div style=\"display: flex; justify-content;\">\n",
       "            <div>\n",
       "                <img src=\"./outputs_rendering/example/output_rf_5_goal_2.gif\" alt=\"GIF 1\" width=\"300\" height=\"300\">\n",
       "            </div>\n",
       "            <div>\n",
       "                <img src=\"./outputs_rendering/example/output_belief_rf_5_goal_2.gif\" alt=\"GIF 2\" width=\"300\" height=\"300\">\n",
       "            </div>\n",
       "        </div>\n",
       "        "
      ],
      "text/plain": [
       "<IPython.core.display.HTML object>"
      ]
     },
     "metadata": {},
     "output_type": "display_data"
    },
    {
     "data": {
      "text/html": [
       "\n",
       "        <div style=\"display: flex; justify-content;\">\n",
       "            <div>\n",
       "                <h2>Receptive field 5, goal purple</h2>\n",
       "            </div>\n",
       "        </div>\n",
       "        <div style=\"display: flex; justify-content;\">\n",
       "            <div>\n",
       "                <img src=\"./outputs_rendering/example/output_rf_5_goal_3.gif\" alt=\"GIF 1\" width=\"300\" height=\"300\">\n",
       "            </div>\n",
       "            <div>\n",
       "                <img src=\"./outputs_rendering/example/output_belief_rf_5_goal_3.gif\" alt=\"GIF 2\" width=\"300\" height=\"300\">\n",
       "            </div>\n",
       "        </div>\n",
       "        "
      ],
      "text/plain": [
       "<IPython.core.display.HTML object>"
      ]
     },
     "metadata": {},
     "output_type": "display_data"
    },
    {
     "data": {
      "text/html": [
       "\n",
       "        <div style=\"display: flex; justify-content;\">\n",
       "            <div>\n",
       "                <h2>Receptive field 5, goal yellow</h2>\n",
       "            </div>\n",
       "        </div>\n",
       "        <div style=\"display: flex; justify-content;\">\n",
       "            <div>\n",
       "                <img src=\"./outputs_rendering/example/output_rf_5_goal_4.gif\" alt=\"GIF 1\" width=\"300\" height=\"300\">\n",
       "            </div>\n",
       "            <div>\n",
       "                <img src=\"./outputs_rendering/example/output_belief_rf_5_goal_4.gif\" alt=\"GIF 2\" width=\"300\" height=\"300\">\n",
       "            </div>\n",
       "        </div>\n",
       "        "
      ],
      "text/plain": [
       "<IPython.core.display.HTML object>"
      ]
     },
     "metadata": {},
     "output_type": "display_data"
    },
    {
     "data": {
      "text/html": [
       "\n",
       "        <div style=\"display: flex; justify-content;\">\n",
       "            <div>\n",
       "                <h2>Receptive field 7, goal green</h2>\n",
       "            </div>\n",
       "        </div>\n",
       "        <div style=\"display: flex; justify-content;\">\n",
       "            <div>\n",
       "                <img src=\"./outputs_rendering/example/output_rf_7_goal_1.gif\" alt=\"GIF 1\" width=\"300\" height=\"300\">\n",
       "            </div>\n",
       "            <div>\n",
       "                <img src=\"./outputs_rendering/example/output_belief_rf_7_goal_1.gif\" alt=\"GIF 2\" width=\"300\" height=\"300\">\n",
       "            </div>\n",
       "        </div>\n",
       "        "
      ],
      "text/plain": [
       "<IPython.core.display.HTML object>"
      ]
     },
     "metadata": {},
     "output_type": "display_data"
    },
    {
     "data": {
      "text/html": [
       "\n",
       "        <div style=\"display: flex; justify-content;\">\n",
       "            <div>\n",
       "                <h2>Receptive field 7, goal blue</h2>\n",
       "            </div>\n",
       "        </div>\n",
       "        <div style=\"display: flex; justify-content;\">\n",
       "            <div>\n",
       "                <img src=\"./outputs_rendering/example/output_rf_7_goal_2.gif\" alt=\"GIF 1\" width=\"300\" height=\"300\">\n",
       "            </div>\n",
       "            <div>\n",
       "                <img src=\"./outputs_rendering/example/output_belief_rf_7_goal_2.gif\" alt=\"GIF 2\" width=\"300\" height=\"300\">\n",
       "            </div>\n",
       "        </div>\n",
       "        "
      ],
      "text/plain": [
       "<IPython.core.display.HTML object>"
      ]
     },
     "metadata": {},
     "output_type": "display_data"
    },
    {
     "data": {
      "text/html": [
       "\n",
       "        <div style=\"display: flex; justify-content;\">\n",
       "            <div>\n",
       "                <h2>Receptive field 7, goal purple</h2>\n",
       "            </div>\n",
       "        </div>\n",
       "        <div style=\"display: flex; justify-content;\">\n",
       "            <div>\n",
       "                <img src=\"./outputs_rendering/example/output_rf_7_goal_3.gif\" alt=\"GIF 1\" width=\"300\" height=\"300\">\n",
       "            </div>\n",
       "            <div>\n",
       "                <img src=\"./outputs_rendering/example/output_belief_rf_7_goal_3.gif\" alt=\"GIF 2\" width=\"300\" height=\"300\">\n",
       "            </div>\n",
       "        </div>\n",
       "        "
      ],
      "text/plain": [
       "<IPython.core.display.HTML object>"
      ]
     },
     "metadata": {},
     "output_type": "display_data"
    },
    {
     "data": {
      "text/html": [
       "\n",
       "        <div style=\"display: flex; justify-content;\">\n",
       "            <div>\n",
       "                <h2>Receptive field 7, goal yellow</h2>\n",
       "            </div>\n",
       "        </div>\n",
       "        <div style=\"display: flex; justify-content;\">\n",
       "            <div>\n",
       "                <img src=\"./outputs_rendering/example/output_rf_7_goal_4.gif\" alt=\"GIF 1\" width=\"300\" height=\"300\">\n",
       "            </div>\n",
       "            <div>\n",
       "                <img src=\"./outputs_rendering/example/output_belief_rf_7_goal_4.gif\" alt=\"GIF 2\" width=\"300\" height=\"300\">\n",
       "            </div>\n",
       "        </div>\n",
       "        "
      ],
      "text/plain": [
       "<IPython.core.display.HTML object>"
      ]
     },
     "metadata": {},
     "output_type": "display_data"
    }
   ],
   "source": [
    "from IPython.display import display, HTML\n",
    "\n",
    "for rf in [3, 5, 7]:\n",
    "    for goal in [1, 2, 3, 4]:\n",
    "        gif_path = f\"./outputs_rendering/example/output_rf_{rf}_goal_{goal}.gif\"\n",
    "        gif_beliefs_path = f\"./outputs_rendering/example/output_belief_rf_{rf}_goal_{goal}.gif\"\n",
    "        title = f\"Receptive field {rf}, goal {IDX_TO_COLOR[goal]}\"\n",
    "\n",
    "        html_code = f'''\n",
    "        <div style=\"display: flex; justify-content;\">\n",
    "            <div>\n",
    "                <h2>{title}</h2>\n",
    "            </div>\n",
    "        </div>\n",
    "        <div style=\"display: flex; justify-content;\">\n",
    "            <div>\n",
    "                <img src=\"{gif_path}\" alt=\"GIF 1\" width=\"300\" height=\"300\">\n",
    "            </div>\n",
    "            <div>\n",
    "                <img src=\"{gif_beliefs_path}\" alt=\"GIF 2\" width=\"300\" height=\"300\">\n",
    "            </div>\n",
    "        </div>\n",
    "        '''\n",
    "\n",
    "        display(HTML(html_code))"
   ]
  },
  {
   "attachments": {},
   "cell_type": "markdown",
   "metadata": {},
   "source": [
    "### Statistics on different learners"
   ]
  },
  {
   "cell_type": "code",
   "execution_count": 8,
   "metadata": {},
   "outputs": [],
   "source": [
    "# Paremeters\n",
    "\n",
    "N = 500"
   ]
  },
  {
   "cell_type": "code",
   "execution_count": null,
   "metadata": {},
   "outputs": [],
   "source": [
    "mean_reward_all = np.zeros((num_doors, len(rf_values)))\n",
    "std_reward_all = np.zeros((num_doors, len(rf_values)))\n",
    "\n",
    "mean_count_all = np.zeros((num_doors, len(rf_values)))\n",
    "std_count_all = np.zeros((num_doors, len(rf_values)))\n",
    "\n",
    "for goal in range(num_doors):\n",
    "    for ii,rf in enumerate(rf_values):\n",
    "        rewards_all = []\n",
    "        counts_all = []\n",
    "        for _ in trange(N):\n",
    "            learner = BayesianLearner(goal=goal, receptive_field=rf, grid_size=GRID_SIZE, max_steps=200)#, save_render=True)\n",
    "            learner.play()\n",
    "            \n",
    "            if learner.reward == 0:\n",
    "                assert(False)\n",
    "            # Stats\n",
    "            rewards_all.append(learner.reward)\n",
    "            counts_all.append(learner.env.step_count)\n",
    "\n",
    "        mean_reward_all[goal, ii] = np.mean(rewards_all)\n",
    "        std_reward_all[goal, ii] = 1.96 * np.std(rewards_all) / np.sqrt(N)\n",
    "\n",
    "        mean_count_all[goal, ii] = np.mean(counts_all)\n",
    "        std_count_all[goal, ii] = 1.96 * np.std(counts_all) / np.sqrt(N)"
   ]
  },
  {
   "cell_type": "code",
   "execution_count": 7,
   "metadata": {},
   "outputs": [],
   "source": [
    "import pandas as pd\n",
    "\n",
    "mean_std_reward = np.zeros((num_doors, len(rf_values))).astype(str)\n",
    "\n",
    "for goal in range(num_doors):\n",
    "    for ii,rf in enumerate(rf_values):\n",
    "        mean_std_reward[goal, ii] = str(np.round(mean_reward_all[goal, ii], 4)) + \" +/- \" + str(np.round(std_reward_all[goal, ii], 4))\n",
    "\n",
    "df_reward = pd.DataFrame(mean_std_reward, columns=np.array(rf_values).astype('str'), index=['Green', 'Blue', 'Purple', 'Yellow'])\n",
    "\n",
    "mean_std_count = np.zeros((num_doors, len(rf_values))).astype(str)\n",
    "\n",
    "for goal in range(num_doors):\n",
    "    for ii,rf in enumerate(rf_values):\n",
    "        mean_std_count[goal, ii] = str(np.round(mean_count_all[goal, ii], 4)) + \" +/- \" + str(np.round(std_count_all[goal, ii], 4))\n",
    "\n",
    "df_count = pd.DataFrame(mean_std_count, columns=np.array(rf_values).astype('str'), index=['Green', 'Blue', 'Purple', 'Yellow'])"
   ]
  },
  {
   "cell_type": "code",
   "execution_count": 8,
   "metadata": {},
   "outputs": [
    {
     "name": "stdout",
     "output_type": "stream",
     "text": [
      "Reward per type of learner\n"
     ]
    },
    {
     "data": {
      "text/html": [
       "<div>\n",
       "<style scoped>\n",
       "    .dataframe tbody tr th:only-of-type {\n",
       "        vertical-align: middle;\n",
       "    }\n",
       "\n",
       "    .dataframe tbody tr th {\n",
       "        vertical-align: top;\n",
       "    }\n",
       "\n",
       "    .dataframe thead th {\n",
       "        text-align: right;\n",
       "    }\n",
       "</style>\n",
       "<table border=\"1\" class=\"dataframe\">\n",
       "  <thead>\n",
       "    <tr style=\"text-align: right;\">\n",
       "      <th></th>\n",
       "      <th>3</th>\n",
       "      <th>5</th>\n",
       "      <th>7</th>\n",
       "      <th>15</th>\n",
       "    </tr>\n",
       "  </thead>\n",
       "  <tbody>\n",
       "    <tr>\n",
       "      <th>Green</th>\n",
       "      <td>0.7193 +/- 0.011</td>\n",
       "      <td>0.8176 +/- 0.0074</td>\n",
       "      <td>0.8619 +/- 0.0046</td>\n",
       "      <td>0.8955 +/- 0.0027</td>\n",
       "    </tr>\n",
       "    <tr>\n",
       "      <th>Blue</th>\n",
       "      <td>0.7172 +/- 0.011</td>\n",
       "      <td>0.8196 +/- 0.0073</td>\n",
       "      <td>0.8553 +/- 0.0048</td>\n",
       "      <td>0.8951 +/- 0.0028</td>\n",
       "    </tr>\n",
       "    <tr>\n",
       "      <th>Purple</th>\n",
       "      <td>0.7127 +/- 0.0114</td>\n",
       "      <td>0.8166 +/- 0.007</td>\n",
       "      <td>0.8546 +/- 0.0048</td>\n",
       "      <td>0.8961 +/- 0.0025</td>\n",
       "    </tr>\n",
       "    <tr>\n",
       "      <th>Yellow</th>\n",
       "      <td>0.7201 +/- 0.0114</td>\n",
       "      <td>0.8183 +/- 0.0074</td>\n",
       "      <td>0.8586 +/- 0.0047</td>\n",
       "      <td>0.8969 +/- 0.0027</td>\n",
       "    </tr>\n",
       "  </tbody>\n",
       "</table>\n",
       "</div>"
      ],
      "text/plain": [
       "                        3                  5                  7  \\\n",
       "Green    0.7193 +/- 0.011  0.8176 +/- 0.0074  0.8619 +/- 0.0046   \n",
       "Blue     0.7172 +/- 0.011  0.8196 +/- 0.0073  0.8553 +/- 0.0048   \n",
       "Purple  0.7127 +/- 0.0114   0.8166 +/- 0.007  0.8546 +/- 0.0048   \n",
       "Yellow  0.7201 +/- 0.0114  0.8183 +/- 0.0074  0.8586 +/- 0.0047   \n",
       "\n",
       "                       15  \n",
       "Green   0.8955 +/- 0.0027  \n",
       "Blue    0.8951 +/- 0.0028  \n",
       "Purple  0.8961 +/- 0.0025  \n",
       "Yellow  0.8969 +/- 0.0027  "
      ]
     },
     "metadata": {},
     "output_type": "display_data"
    },
    {
     "name": "stdout",
     "output_type": "stream",
     "text": [
      "# of step to fininsh the task per type of learner\n"
     ]
    },
    {
     "data": {
      "text/html": [
       "<div>\n",
       "<style scoped>\n",
       "    .dataframe tbody tr th:only-of-type {\n",
       "        vertical-align: middle;\n",
       "    }\n",
       "\n",
       "    .dataframe tbody tr th {\n",
       "        vertical-align: top;\n",
       "    }\n",
       "\n",
       "    .dataframe thead th {\n",
       "        text-align: right;\n",
       "    }\n",
       "</style>\n",
       "<table border=\"1\" class=\"dataframe\">\n",
       "  <thead>\n",
       "    <tr style=\"text-align: right;\">\n",
       "      <th></th>\n",
       "      <th>3</th>\n",
       "      <th>5</th>\n",
       "      <th>7</th>\n",
       "      <th>15</th>\n",
       "    </tr>\n",
       "  </thead>\n",
       "  <tbody>\n",
       "    <tr>\n",
       "      <th>Green</th>\n",
       "      <td>62.37 +/- 2.4462</td>\n",
       "      <td>40.542 +/- 1.6367</td>\n",
       "      <td>30.678 +/- 1.0299</td>\n",
       "      <td>23.222 +/- 0.5911</td>\n",
       "    </tr>\n",
       "    <tr>\n",
       "      <th>Blue</th>\n",
       "      <td>62.852 +/- 2.4524</td>\n",
       "      <td>40.098 +/- 1.617</td>\n",
       "      <td>32.15 +/- 1.0579</td>\n",
       "      <td>23.322 +/- 0.626</td>\n",
       "    </tr>\n",
       "    <tr>\n",
       "      <th>Purple</th>\n",
       "      <td>63.85 +/- 2.5248</td>\n",
       "      <td>40.762 +/- 1.5477</td>\n",
       "      <td>32.318 +/- 1.0687</td>\n",
       "      <td>23.078 +/- 0.5633</td>\n",
       "    </tr>\n",
       "    <tr>\n",
       "      <th>Yellow</th>\n",
       "      <td>62.206 +/- 2.5342</td>\n",
       "      <td>40.384 +/- 1.6419</td>\n",
       "      <td>31.418 +/- 1.0495</td>\n",
       "      <td>22.914 +/- 0.6101</td>\n",
       "    </tr>\n",
       "  </tbody>\n",
       "</table>\n",
       "</div>"
      ],
      "text/plain": [
       "                        3                  5                  7  \\\n",
       "Green    62.37 +/- 2.4462  40.542 +/- 1.6367  30.678 +/- 1.0299   \n",
       "Blue    62.852 +/- 2.4524   40.098 +/- 1.617   32.15 +/- 1.0579   \n",
       "Purple   63.85 +/- 2.5248  40.762 +/- 1.5477  32.318 +/- 1.0687   \n",
       "Yellow  62.206 +/- 2.5342  40.384 +/- 1.6419  31.418 +/- 1.0495   \n",
       "\n",
       "                       15  \n",
       "Green   23.222 +/- 0.5911  \n",
       "Blue     23.322 +/- 0.626  \n",
       "Purple  23.078 +/- 0.5633  \n",
       "Yellow  22.914 +/- 0.6101  "
      ]
     },
     "metadata": {},
     "output_type": "display_data"
    }
   ],
   "source": [
    "print(\"Reward per type of learner\")\n",
    "display(df_reward)\n",
    "print(\"# of step to fininsh the task per type of learner\")\n",
    "display(df_count)"
   ]
  },
  {
   "cell_type": "code",
   "execution_count": 22,
   "metadata": {},
   "outputs": [],
   "source": [
    "import pandas as pd\n",
    "\n",
    "mean_std_reward = np.zeros(len(rf_values)).astype(str)\n",
    "\n",
    "for ii,rf in enumerate(rf_values):\n",
    "    mean_std_reward[ii] = str(np.round(np.mean(mean_reward_all[:, ii]), 4)) + \" +/- \" + str(np.round(np.mean(std_reward_all[:, ii]), 4))\n",
    "\n",
    "df_reward = pd.DataFrame(mean_std_reward.reshape((1,4)), columns=np.array(rf_values).astype('str'), index=['learner'])\n",
    "\n",
    "mean_std_count = np.zeros(len(rf_values)).astype(str)\n",
    "\n",
    "for ii,rf in enumerate(rf_values):\n",
    "    mean_std_count[ii] = str(np.round(np.mean(mean_count_all[:, ii]), 4)) + \" +/- \" + str(np.round(np.mean(std_count_all[:, ii]), 4))\n",
    "\n",
    "df_count = pd.DataFrame(mean_std_count.reshape((1,4)), columns=np.array(rf_values).astype('str'), index=['learner'])"
   ]
  },
  {
   "cell_type": "code",
   "execution_count": 23,
   "metadata": {},
   "outputs": [
    {
     "name": "stdout",
     "output_type": "stream",
     "text": [
      "Reward per RF\n"
     ]
    },
    {
     "data": {
      "text/html": [
       "<div>\n",
       "<style scoped>\n",
       "    .dataframe tbody tr th:only-of-type {\n",
       "        vertical-align: middle;\n",
       "    }\n",
       "\n",
       "    .dataframe tbody tr th {\n",
       "        vertical-align: top;\n",
       "    }\n",
       "\n",
       "    .dataframe thead th {\n",
       "        text-align: right;\n",
       "    }\n",
       "</style>\n",
       "<table border=\"1\" class=\"dataframe\">\n",
       "  <thead>\n",
       "    <tr style=\"text-align: right;\">\n",
       "      <th></th>\n",
       "      <th>3</th>\n",
       "      <th>5</th>\n",
       "      <th>7</th>\n",
       "      <th>15</th>\n",
       "    </tr>\n",
       "  </thead>\n",
       "  <tbody>\n",
       "    <tr>\n",
       "      <th>learner</th>\n",
       "      <td>0.7173 +/- 0.0112</td>\n",
       "      <td>0.818 +/- 0.0072</td>\n",
       "      <td>0.8576 +/- 0.0047</td>\n",
       "      <td>0.8959 +/- 0.0027</td>\n",
       "    </tr>\n",
       "  </tbody>\n",
       "</table>\n",
       "</div>"
      ],
      "text/plain": [
       "                         3                 5                  7  \\\n",
       "learner  0.7173 +/- 0.0112  0.818 +/- 0.0072  0.8576 +/- 0.0047   \n",
       "\n",
       "                        15  \n",
       "learner  0.8959 +/- 0.0027  "
      ]
     },
     "metadata": {},
     "output_type": "display_data"
    },
    {
     "name": "stdout",
     "output_type": "stream",
     "text": [
      "# of step to fininsh the task per RF\n"
     ]
    },
    {
     "data": {
      "text/html": [
       "<div>\n",
       "<style scoped>\n",
       "    .dataframe tbody tr th:only-of-type {\n",
       "        vertical-align: middle;\n",
       "    }\n",
       "\n",
       "    .dataframe tbody tr th {\n",
       "        vertical-align: top;\n",
       "    }\n",
       "\n",
       "    .dataframe thead th {\n",
       "        text-align: right;\n",
       "    }\n",
       "</style>\n",
       "<table border=\"1\" class=\"dataframe\">\n",
       "  <thead>\n",
       "    <tr style=\"text-align: right;\">\n",
       "      <th></th>\n",
       "      <th>3</th>\n",
       "      <th>5</th>\n",
       "      <th>7</th>\n",
       "      <th>15</th>\n",
       "    </tr>\n",
       "  </thead>\n",
       "  <tbody>\n",
       "    <tr>\n",
       "      <th>learner</th>\n",
       "      <td>62.8195 +/- 2.4894</td>\n",
       "      <td>40.4465 +/- 1.6108</td>\n",
       "      <td>31.641 +/- 1.0515</td>\n",
       "      <td>23.134 +/- 0.5976</td>\n",
       "    </tr>\n",
       "  </tbody>\n",
       "</table>\n",
       "</div>"
      ],
      "text/plain": [
       "                          3                   5                  7  \\\n",
       "learner  62.8195 +/- 2.4894  40.4465 +/- 1.6108  31.641 +/- 1.0515   \n",
       "\n",
       "                        15  \n",
       "learner  23.134 +/- 0.5976  "
      ]
     },
     "metadata": {},
     "output_type": "display_data"
    }
   ],
   "source": [
    "print(\"Reward per RF\")\n",
    "display(df_reward)\n",
    "print(\"# of step to fininsh the task per RF\")\n",
    "display(df_count)"
   ]
  }
 ],
 "metadata": {
  "kernelspec": {
   "display_name": "ISIR",
   "language": "python",
   "name": "python3"
  },
  "language_info": {
   "codemirror_mode": {
    "name": "ipython",
    "version": 3
   },
   "file_extension": ".py",
   "mimetype": "text/x-python",
   "name": "python",
   "nbconvert_exporter": "python",
   "pygments_lexer": "ipython3",
   "version": "3.11.3"
  },
  "orig_nbformat": 4
 },
 "nbformat": 4,
 "nbformat_minor": 2
}
